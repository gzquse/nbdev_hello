{
 "cells": [
  {
   "cell_type": "code",
   "execution_count": 3,
   "id": "5153f2f6-835c-4b1a-af42-b9d00725e77b",
   "metadata": {},
   "outputs": [
    {
     "name": "stdout",
     "output_type": "stream",
     "text": [
      "/bin/bash: /global/homes/g/gzquse/.local/bin/pip: /opt/conda/bin/python3.8: bad interpreter: No such file or directory\n"
     ]
    }
   ],
   "source": []
  },
  {
   "cell_type": "code",
   "execution_count": 1,
   "id": "b338538e-7686-450a-8448-dbe9f2b4cf53",
   "metadata": {},
   "outputs": [
    {
     "ename": "ModuleNotFoundError",
     "evalue": "No module named 'qiskit_aer'",
     "output_type": "error",
     "traceback": [
      "\u001b[0;31m---------------------------------------------------------------------------\u001b[0m",
      "\u001b[0;31mModuleNotFoundError\u001b[0m                       Traceback (most recent call last)",
      "Cell \u001b[0;32mIn[1], line 4\u001b[0m\n\u001b[1;32m      2\u001b[0m \u001b[38;5;28;01mimport\u001b[39;00m \u001b[38;5;21;01mscipy\u001b[39;00m\u001b[38;5;21;01m.\u001b[39;00m\u001b[38;5;21;01mstats\u001b[39;00m\n\u001b[1;32m      3\u001b[0m \u001b[38;5;28;01mfrom\u001b[39;00m \u001b[38;5;21;01mqiskit\u001b[39;00m \u001b[38;5;28;01mimport\u001b[39;00m QuantumCircuit, transpile\n\u001b[0;32m----> 4\u001b[0m \u001b[38;5;28;01mfrom\u001b[39;00m \u001b[38;5;21;01mqiskit_aer\u001b[39;00m \u001b[38;5;28;01mimport\u001b[39;00m AerSimulator\n\u001b[1;32m      5\u001b[0m \u001b[38;5;28;01mfrom\u001b[39;00m \u001b[38;5;21;01mqiskit\u001b[39;00m\u001b[38;5;21;01m.\u001b[39;00m\u001b[38;5;21;01mquantum_info\u001b[39;00m \u001b[38;5;28;01mimport\u001b[39;00m random_density_matrix\n\u001b[1;32m      6\u001b[0m \u001b[38;5;28;01mimport\u001b[39;00m \u001b[38;5;21;01mpandas\u001b[39;00m \u001b[38;5;28;01mas\u001b[39;00m \u001b[38;5;21;01mpd\u001b[39;00m\n",
      "\u001b[0;31mModuleNotFoundError\u001b[0m: No module named 'qiskit_aer'"
     ]
    }
   ],
   "source": [
    "import numpy as np\n",
    "import scipy.stats\n",
    "from qiskit import QuantumCircuit, transpile\n",
    "from qiskit_aer import AerSimulator\n",
    "from qiskit.quantum_info import random_density_matrix\n",
    "import pandas as pd\n",
    "\n",
    "# Define the number of qubits\n",
    "num_qubits = 4\n",
    "\n",
    "# Function to create a QAOA-like state with hybrid unitaries\n",
    "def generate_qaoa_state(num_qubits):\n",
    "    qc = QuantumCircuit(num_qubits)\n",
    "    for qubit in range(num_qubits):\n",
    "        qc.h(qubit)\n",
    "    for qubit in range(num_qubits - 1):\n",
    "        qc.cx(qubit, qubit + 1)\n",
    "    qc.measure_all()\n",
    "    return qc\n",
    "\n",
    "# Generate Haar-random state\n",
    "haar_random_state = random_density_matrix(2**num_qubits, rank=2**num_qubits).data\n",
    "\n",
    "# Simulate QAOA circuit\n",
    "qaoa_circuit = generate_qaoa_state(num_qubits)\n",
    "simulator = AerSimulator()\n",
    "transpiled_qc = transpile(qaoa_circuit, simulator)\n",
    "job = simulator.run(transpiled_qc, shots=10000)\n",
    "qaoa_results = job.result().get_counts()\n",
    "\n",
    "# Convert QAOA measurement results into a probability distribution\n",
    "qaoa_probs = np.array([qaoa_results.get(format(i, f\"0{num_qubits}b\"), 0) for i in range(2**num_qubits)]) / 10000\n",
    "\n",
    "# Generate Haar-random state probability distribution\n",
    "haar_probs = np.real(np.diagonal(haar_random_state))\n",
    "\n",
    "# Normalize Haar-random probabilities\n",
    "haar_probs /= np.sum(haar_probs)\n",
    "\n",
    "# Compute KL divergence\n",
    "kl_divergence = scipy.stats.entropy(qaoa_probs + 1e-10, haar_probs + 1e-10)  # Add epsilon to avoid log(0)\n",
    "\n",
    "# Compute trace distance\n",
    "trace_distance = 0.5 * np.linalg.norm(qaoa_probs - haar_probs, ord=1)\n",
    "\n",
    "# Display results\n",
    "results_df = pd.DataFrame({\n",
    "    \"Metric\": [\"KL Divergence\", \"Trace Distance\"],\n",
    "    \"Value\": [kl_divergence, trace_distance],\n",
    "})\n",
    "\n",
    "print(results_df)\n"
   ]
  },
  {
   "cell_type": "code",
   "execution_count": null,
   "id": "c303586e-9cd2-4a52-bf19-4d11ba66b18d",
   "metadata": {},
   "outputs": [],
   "source": []
  }
 ],
 "metadata": {
  "kernelspec": {
   "display_name": "NERSC Python",
   "language": "python",
   "name": "python3"
  },
  "language_info": {
   "codemirror_mode": {
    "name": "ipython",
    "version": 3
   },
   "file_extension": ".py",
   "mimetype": "text/x-python",
   "name": "python",
   "nbconvert_exporter": "python",
   "pygments_lexer": "ipython3",
   "version": "3.11.7"
  }
 },
 "nbformat": 4,
 "nbformat_minor": 5
}
